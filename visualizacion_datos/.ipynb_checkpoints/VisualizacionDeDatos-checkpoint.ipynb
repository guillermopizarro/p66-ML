{
 "cells": [
  {
   "cell_type": "markdown",
   "id": "f47d3b22-13de-4ae0-b82f-a01075b970fb",
   "metadata": {},
   "source": [
    "# Visualización de Datos"
   ]
  },
  {
   "cell_type": "markdown",
   "id": "eac48b7b-5372-4779-9542-9fc3afcda4db",
   "metadata": {},
   "source": [
    "## Pre-procesamiento de Datos"
   ]
  },
  {
   "cell_type": "code",
   "execution_count": 8,
   "id": "3ffd1808-fa46-4bb8-8cfa-b99b4bf28b04",
   "metadata": {},
   "outputs": [],
   "source": [
    "import pandas as pd"
   ]
  },
  {
   "cell_type": "code",
   "execution_count": 13,
   "id": "9842cba7-2032-401a-8589-6d396fa9f120",
   "metadata": {},
   "outputs": [
    {
     "name": "stdout",
     "output_type": "stream",
     "text": [
      "<class 'pandas.core.frame.DataFrame'>\n",
      "RangeIndex: 24299 entries, 0 to 24298\n",
      "Data columns (total 8 columns):\n",
      " #   Column               Non-Null Count  Dtype   \n",
      "---  ------               --------------  -----   \n",
      " 0   ID_Sucursal          24299 non-null  int64   \n",
      " 1   ID_Cajero            24299 non-null  int64   \n",
      " 2   ID_Transaccion       24299 non-null  int64   \n",
      " 3   Transaccion          24299 non-null  category\n",
      " 4   Tiempo_Servicio_seg  24299 non-null  float64 \n",
      " 5   Satisfaccion         24299 non-null  category\n",
      " 6   Monto                24299 non-null  float64 \n",
      " 7   Tiempo_Servicio_min  24299 non-null  float64 \n",
      "dtypes: category(2), float64(3), int64(3)\n",
      "memory usage: 1.2 MB\n"
     ]
    }
   ],
   "source": [
    "ruta_archivo = 'Data_Banco.csv'\n",
    "\n",
    "data_banco_df = pd.read_csv(ruta_archivo, sep=',')\n",
    "data_banco_df.rename(columns={'Sucursal':'ID_Sucursal', 'Cajero':'ID_Cajero'}, inplace=True)\n",
    "\n",
    "escala = ['Muy Malo', 'Malo', 'Regular', 'Bueno', 'Muy Bueno']\n",
    "data_banco_df.Satisfaccion = pd.Categorical(\n",
    "    data_banco_df.Satisfaccion,\n",
    "    categories=escala,\n",
    "    ordered=True\n",
    ")\n",
    "tipo_transaccion = list(set(data_banco_df.Transaccion))\n",
    "data_banco_df.Transaccion = pd.Categorical(\n",
    "    data_banco_df.Transaccion,\n",
    "    categories=tipo_transaccion\n",
    ")\n",
    "data_banco_df['Tiempo_Servicio_min'] = data_banco_df['Tiempo_Servicio_seg']/60 \n",
    "data_banco_df.info()"
   ]
  },
  {
   "cell_type": "code",
   "execution_count": 14,
   "id": "666299df-8534-43e8-980e-54752d06f440",
   "metadata": {},
   "outputs": [
    {
     "name": "stdout",
     "output_type": "stream",
     "text": [
      "<class 'pandas.core.frame.DataFrame'>\n",
      "RangeIndex: 27 entries, 0 to 26\n",
      "Data columns (total 5 columns):\n",
      " #   Column           Non-Null Count  Dtype   \n",
      "---  ------           --------------  -----   \n",
      " 0   ID_Cajero        27 non-null     int64   \n",
      " 1   Edad             27 non-null     int64   \n",
      " 2   Sexo             27 non-null     object  \n",
      " 3   Nivel_Formacion  27 non-null     category\n",
      " 4   Anio_Ingreso     27 non-null     int64   \n",
      "dtypes: category(1), int64(3), object(1)\n",
      "memory usage: 1.2+ KB\n"
     ]
    }
   ],
   "source": [
    "ruta_archivo = 'Data_Cajero.csv'\n",
    "\n",
    "data_cajero_df = pd.read_csv(ruta_archivo, sep=',')\n",
    "data_cajero_df.rename(columns={'Cajero':'ID_Cajero', 'Anio Ingreso':'Anio_Ingreso'}, inplace=True)\n",
    "\n",
    "nivel_formacion = list(set(data_cajero_df.Nivel_Formacion))\n",
    "\n",
    "data_cajero_df.Nivel_Formacion = pd.Categorical(\n",
    "    data_cajero_df.Nivel_Formacion,\n",
    "    categories=nivel_formacion\n",
    ")\n",
    "data_cajero_df.info()"
   ]
  },
  {
   "cell_type": "code",
   "execution_count": 15,
   "id": "a9a1a645-6e66-4296-9ab5-d29a115a1394",
   "metadata": {},
   "outputs": [
    {
     "name": "stdout",
     "output_type": "stream",
     "text": [
      "<class 'pandas.core.frame.DataFrame'>\n",
      "RangeIndex: 5 entries, 0 to 4\n",
      "Data columns (total 3 columns):\n",
      " #   Column         Non-Null Count  Dtype \n",
      "---  ------         --------------  ----- \n",
      " 0   ID_Sucursal    5 non-null      int64 \n",
      " 1   Sucursal       5 non-null      object\n",
      " 2   Nuevo_Sistema  5 non-null      object\n",
      "dtypes: int64(1), object(2)\n",
      "memory usage: 252.0+ bytes\n"
     ]
    }
   ],
   "source": [
    "ruta_archivo = 'Data_Sucursal.csv'\n",
    "\n",
    "data_sucursal_df = pd.read_csv(ruta_archivo, sep=',')\n",
    "data_sucursal_df.info()"
   ]
  },
  {
   "cell_type": "code",
   "execution_count": 16,
   "id": "c35413de-4a4a-4042-b9a2-a9f4c6b952d1",
   "metadata": {},
   "outputs": [
    {
     "name": "stdout",
     "output_type": "stream",
     "text": [
      "<class 'pandas.core.frame.DataFrame'>\n",
      "RangeIndex: 24299 entries, 0 to 24298\n",
      "Data columns (total 14 columns):\n",
      " #   Column               Non-Null Count  Dtype   \n",
      "---  ------               --------------  -----   \n",
      " 0   ID_Sucursal          24299 non-null  int64   \n",
      " 1   ID_Cajero            24299 non-null  int64   \n",
      " 2   ID_Transaccion       24299 non-null  int64   \n",
      " 3   Transaccion          24299 non-null  category\n",
      " 4   Tiempo_Servicio_seg  24299 non-null  float64 \n",
      " 5   Satisfaccion         24299 non-null  category\n",
      " 6   Monto                24299 non-null  float64 \n",
      " 7   Tiempo_Servicio_min  24299 non-null  float64 \n",
      " 8   Sucursal             24299 non-null  object  \n",
      " 9   Nuevo_Sistema        24299 non-null  object  \n",
      " 10  Edad                 24299 non-null  int64   \n",
      " 11  Sexo                 24299 non-null  object  \n",
      " 12  Nivel_Formacion      24299 non-null  category\n",
      " 13  Anio_Ingreso         24299 non-null  int64   \n",
      "dtypes: category(3), float64(3), int64(5), object(3)\n",
      "memory usage: 2.1+ MB\n"
     ]
    }
   ],
   "source": [
    "data_banco_df = pd.merge(data_banco_df, data_sucursal_df, how='inner', on='ID_Sucursal')\n",
    "data_banco_df = pd.merge(data_banco_df, data_cajero_df, how='inner', on='ID_Cajero')\n",
    "data_banco_df.info()"
   ]
  },
  {
   "cell_type": "markdown",
   "id": "ca30aff2-e497-4e87-bc0c-8b83cc66c1bc",
   "metadata": {},
   "source": [
    "## Análisis Exploratorio de los datos"
   ]
  },
  {
   "cell_type": "markdown",
   "id": "68c69269-7c2d-4b6c-b9bc-6501eae1446c",
   "metadata": {},
   "source": [
    "### Variable Numérica vs. Variable Numérica"
   ]
  },
  {
   "cell_type": "code",
   "execution_count": null,
   "id": "98be62f3-df2f-49b8-afb4-692623973427",
   "metadata": {},
   "outputs": [],
   "source": []
  },
  {
   "cell_type": "code",
   "execution_count": null,
   "id": "3f818f63-fc5e-4b32-a5aa-a3ad3258eb2c",
   "metadata": {},
   "outputs": [],
   "source": []
  },
  {
   "cell_type": "code",
   "execution_count": null,
   "id": "eb37c3bc-e89e-4fea-b1d8-221d9d20f961",
   "metadata": {},
   "outputs": [],
   "source": []
  },
  {
   "cell_type": "code",
   "execution_count": null,
   "id": "10bc5a7d-b842-454c-880c-1a0dc0f2ce91",
   "metadata": {},
   "outputs": [],
   "source": []
  },
  {
   "cell_type": "code",
   "execution_count": null,
   "id": "d343be94-94d9-45ae-a4a4-2fc9f7e362c7",
   "metadata": {},
   "outputs": [],
   "source": []
  }
 ],
 "metadata": {
  "kernelspec": {
   "display_name": "Python 3 (ipykernel)",
   "language": "python",
   "name": "python3"
  },
  "language_info": {
   "codemirror_mode": {
    "name": "ipython",
    "version": 3
   },
   "file_extension": ".py",
   "mimetype": "text/x-python",
   "name": "python",
   "nbconvert_exporter": "python",
   "pygments_lexer": "ipython3",
   "version": "3.12.2"
  }
 },
 "nbformat": 4,
 "nbformat_minor": 5
}
